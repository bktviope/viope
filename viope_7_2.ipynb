{
  "nbformat": 4,
  "nbformat_minor": 0,
  "metadata": {
    "colab": {
      "name": "viope_7_2.ipynb",
      "provenance": [],
      "authorship_tag": "ABX9TyP2m5OQYS94gYeN1I2pb7UD",
      "include_colab_link": true
    },
    "kernelspec": {
      "name": "python3",
      "display_name": "Python 3"
    }
  },
  "cells": [
    {
      "cell_type": "markdown",
      "metadata": {
        "id": "view-in-github",
        "colab_type": "text"
      },
      "source": [
        "<a href=\"https://colab.research.google.com/github/bktviope/viope/blob/master/viope_7_2.ipynb\" target=\"_parent\"><img src=\"https://colab.research.google.com/assets/colab-badge.svg\" alt=\"Open In Colab\"/></a>"
      ]
    },
    {
      "cell_type": "code",
      "metadata": {
        "id": "w1S9ziG1nJIa",
        "colab_type": "code",
        "colab": {
          "base_uri": "https://localhost:8080/",
          "height": 146
        },
        "outputId": "d4355b61-d969-4ec9-cb80-b873afe339fb"
      },
      "source": [
        "import random\n",
        "\n",
        "jatkuu = True\n",
        "pelimaara = 0\n",
        "ihmisenpisteet = 0\n",
        "tasapelipisteet = 0\n",
        "\n",
        "while jatkuu == True:\n",
        "  vaihtoehdot = [\"Jalka\",\"Ydinase\",\"Torakka\"]\n",
        "\n",
        "  ihmisenvalinta = input (\"Jalka, Ydinase vai Torakka? (Lopeta lopettaa): \")\n",
        "\n",
        "  tk0 = False\n",
        "  tk1 = False\n",
        "  tk2 = False\n",
        "\n",
        "  tietokoneenvalinta = random.choice(vaihtoehdot)\n",
        "  if tietokoneenvalinta == \"Jalka\":\n",
        "    tk0 = True\n",
        "  elif tietokoneenvalinta == \"Ydinase\":\n",
        "    tk1 = True\n",
        "  elif tietokoneenvalinta == \"Torakka\":\n",
        "    tk2 = True\n",
        "    \n",
        "  if ihmisenvalinta == \"Lopeta\":\n",
        "    print (\"pelasit\",pelimaara, \"kierrosta, joista voitit\",ihmisenpisteet,\"ja pelasit tasan\",tasapelipisteet,\"peliä\")\n",
        "    jatkuu = False\n",
        "\n",
        "  elif ihmisenvalinta == \"Jalka\" and tk0 == True:\n",
        "    print(\"Sinä valitsit: Jalka\")\n",
        "    print(\"Tietokone valitsi: Jalka\")\n",
        "    print(\"Tasapeli!\")\n",
        "    tasapelipisteet = tasapelipisteet + 1\n",
        "\n",
        "  elif ihmisenvalinta == \"Jalka\" and tk1 == True:\n",
        "    print(\"Sinä valitsit: Jalka\")\n",
        "    print(\"Tietokone valitsi: Ydinase\")\n",
        "    print(\"Hävisit!\")\n",
        "\n",
        "  elif ihmisenvalinta == \"Jalka\" and tk2 == True:\n",
        "    print(\"Sinä valitsit: Jalka\")\n",
        "    print(\"Tietokone valitsi: Torakka\")\n",
        "    print(\"Voitit!\")\n",
        "    ihmisenpisteet = ihmisenpisteet + 1\n",
        "  \n",
        "  elif ihmisenvalinta == \"Ydinase\" and tk0 == True:\n",
        "    print(\"Sinä valitsit: Ydinase\")\n",
        "    print(\"Tietokone valitsi: Jalka\")\n",
        "    print(\"Voitit!\")\n",
        "    ihmisenpisteet = ihmisenpisteet + 1\n",
        "\n",
        "  elif ihmisenvalinta == \"Ydinase\" and tk1 == True:\n",
        "    print(\"Sinä valitsit: Ydinase\")\n",
        "    print(\"Tietokone valitsi: Ydinase\")\n",
        "    print(\"Tasapeli!\")\n",
        "    tasapelipisteet = tasapelipisteet + 1\n",
        "\n",
        "  elif ihmisenvalinta == \"Ydinase\" and tk2 == True:\n",
        "    print(\"Sinä valitsit: Ydinase\")\n",
        "    print(\"Tietokone valitsi: Torakka\")\n",
        "    print(\"Hävisit!\")\n",
        "\n",
        "  elif ihmisenvalinta == \"Torakka\" and tk0 == True:\n",
        "    print(\"Sinä valitsit: Torakka\")\n",
        "    print(\"Tietokone valitsi: Jalka\")\n",
        "    print(\"Hävisit!\")\n",
        "\n",
        "  elif ihmisenvalinta == \"Torakka\" and tk1 == True:\n",
        "    print(\"Sinä valitsit: Torakka\")\n",
        "    print(\"Tietokone valitsi: Ydinase\")\n",
        "    print(\"Voitit!\")\n",
        "    ihmisenpisteet = ihmisenpisteet + 1\n",
        "\n",
        "  elif ihmisenvalinta == \"Torakka\" and tk2 == True:\n",
        "    print(\"Sinä valitsit: Torakka\")\n",
        "    print(\"Tietokone valitsi: Torakka\")\n",
        "    print(\"Tasapeli!\")\n",
        "    tasapelipisteet = tasapelipisteet + 1\n",
        "\n",
        "  tk0 = False\n",
        "  tk1 = False\n",
        "  tk2 = False\n",
        "  pelimaara = pelimaara + 1\n",
        "  \n",
        " "
      ],
      "execution_count": 75,
      "outputs": [
        {
          "output_type": "stream",
          "text": [
            "Jalka, Ydinase vai Torakka? (Lopeta lopettaa): Vittu\n",
            "Jalka, Ydinase vai Torakka? (Lopeta lopettaa): Torakka\n",
            "Sinä valitsit: Torakka\n",
            "Tietokone valitsi: Ydinase\n",
            "Voitit!\n",
            "Jalka, Ydinase vai Torakka? (Lopeta lopettaa): Lopeta\n",
            "pelasit 2 kierrosta, joista voitit 1 ja pelasit tasan 0 peliä\n"
          ],
          "name": "stdout"
        }
      ]
    }
  ]
}